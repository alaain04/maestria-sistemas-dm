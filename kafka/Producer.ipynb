{
 "cells": [
  {
   "cell_type": "code",
   "execution_count": 1,
   "id": "genuine-validity",
   "metadata": {},
   "outputs": [],
   "source": [
    "from time import sleep\n",
    "from json import dumps\n",
    "from kafka import KafkaProducer\n",
    "import pandas as pd"
   ]
  },
  {
   "cell_type": "code",
   "execution_count": 2,
   "id": "arranged-insulation",
   "metadata": {},
   "outputs": [],
   "source": [
    "#Constants\n",
    "kafka_server = 'localhost:9092'\n",
    "topic = 'orders-topic'"
   ]
  },
  {
   "cell_type": "code",
   "execution_count": 3,
   "id": "outstanding-building",
   "metadata": {},
   "outputs": [],
   "source": [
    "# Cargamos todos los csv en df diferentes\n",
    "olist_orders = pd.read_csv('../dataset/olist_orders_dataset.csv')\n",
    "olist_products = pd.read_csv('../dataset/olist_products_dataset.csv')\n",
    "olist_items = pd.read_csv('../dataset/olist_order_items_dataset.csv')\n",
    "olist_customers = pd.read_csv('../dataset/olist_customers_dataset.csv')\n",
    "olist_payments = pd.read_csv('../dataset/olist_order_payments_dataset.csv')\n",
    "olist_sellers = pd.read_csv('../dataset/olist_sellers_dataset.csv')\n",
    "olist_geolocation = pd.read_csv('../dataset/olist_geolocation_dataset.csv')\n",
    "olist_reviews = pd.read_csv('../dataset/olist_order_reviews_dataset.csv')\n",
    "olist_product_category_name = pd.read_csv('../dataset/product_category_name_translation.csv')\n",
    "\n",
    "# Mergeamos los df anteriores en uno solo\n",
    "all_data = olist_orders.merge(olist_items, on='order_id', how='left')\n",
    "all_data = all_data.merge(olist_payments, on='order_id', how='inner')\n",
    "all_data = all_data.merge(olist_reviews, on='order_id', how='inner')\n",
    "all_data = all_data.merge(olist_products, on='product_id', how='inner')\n",
    "all_data = all_data.merge(olist_customers, on='customer_id', how='inner')\n",
    "all_data = all_data.merge(olist_sellers, on='seller_id', how='inner')\n",
    "all_data = all_data.merge(olist_product_category_name,on='product_category_name',how='inner')"
   ]
  },
  {
   "cell_type": "code",
   "execution_count": 23,
   "id": "killing-inspector",
   "metadata": {},
   "outputs": [],
   "source": [
    "all_data.to_json()"
   ]
  },
  {
   "cell_type": "code",
   "execution_count": 46,
   "id": "veterinary-wells",
   "metadata": {},
   "outputs": [
    {
     "name": "stdout",
     "output_type": "stream",
     "text": [
      "Iteration e481f51cbdc54678b7cc49136f2d6af7\n",
      "Iteration e481f51cbdc54678b7cc49136f2d6af7\n",
      "Iteration e481f51cbdc54678b7cc49136f2d6af7\n",
      "Iteration 128e10d95713541c87cd1a2e48201934\n",
      "Iteration 0e7e841ddf8f8f2de2bad69267ecfbcf\n",
      "Iteration bfc39df4f36c3693ff3b63fcbea9e90a\n",
      "Iteration 5f49f31e537f8f1a496454b48edbe34d\n",
      "Iteration 1fa40f202d5d233b6491e976c557b822\n",
      "Iteration 41c045db2d1876be9f05cf4a787693b2\n",
      "Iteration a60241fca336b3f14485dff30a172cab\n"
     ]
    },
    {
     "ename": "KeyboardInterrupt",
     "evalue": "",
     "output_type": "error",
     "traceback": [
      "\u001b[0;31m---------------------------------------------------------------------------\u001b[0m",
      "\u001b[0;31mKeyboardInterrupt\u001b[0m                         Traceback (most recent call last)",
      "\u001b[0;32m<ipython-input-46-6890d28b49b5>\u001b[0m in \u001b[0;36m<module>\u001b[0;34m\u001b[0m\n\u001b[1;32m      8\u001b[0m     \u001b[0mdata\u001b[0m \u001b[0;34m=\u001b[0m \u001b[0mrow\u001b[0m\u001b[0;34m.\u001b[0m\u001b[0mto_json\u001b[0m\u001b[0;34m(\u001b[0m\u001b[0;34m)\u001b[0m\u001b[0;34m\u001b[0m\u001b[0;34m\u001b[0m\u001b[0m\n\u001b[1;32m      9\u001b[0m     \u001b[0mproducer\u001b[0m\u001b[0;34m.\u001b[0m\u001b[0msend\u001b[0m\u001b[0;34m(\u001b[0m\u001b[0mtopic\u001b[0m\u001b[0;34m,\u001b[0m \u001b[0mvalue\u001b[0m\u001b[0;34m=\u001b[0m\u001b[0mdata\u001b[0m\u001b[0;34m)\u001b[0m\u001b[0;34m\u001b[0m\u001b[0;34m\u001b[0m\u001b[0m\n\u001b[0;32m---> 10\u001b[0;31m     \u001b[0msleep\u001b[0m\u001b[0;34m(\u001b[0m\u001b[0;36m0.5\u001b[0m\u001b[0;34m)\u001b[0m\u001b[0;34m\u001b[0m\u001b[0;34m\u001b[0m\u001b[0m\n\u001b[0m",
      "\u001b[0;31mKeyboardInterrupt\u001b[0m: "
     ]
    }
   ],
   "source": [
    "producer = KafkaProducer(\n",
    "    bootstrap_servers=[kafka_server],\n",
    "    value_serializer=lambda x: dumps(x).encode('utf-8')\n",
    ")\n",
    "\n",
    "for index, row in all_data.iterrows():\n",
    "    print(\"order_id:\", row[0])\n",
    "    data = row.to_json()    \n",
    "    producer.send(topic, value=data)\n",
    "    sleep(0.5)"
   ]
  }
 ],
 "metadata": {
  "kernelspec": {
   "display_name": "Python 3",
   "language": "python",
   "name": "python3"
  },
  "language_info": {
   "codemirror_mode": {
    "name": "ipython",
    "version": 3
   },
   "file_extension": ".py",
   "mimetype": "text/x-python",
   "name": "python",
   "nbconvert_exporter": "python",
   "pygments_lexer": "ipython3",
   "version": "3.8.5"
  }
 },
 "nbformat": 4,
 "nbformat_minor": 5
}
